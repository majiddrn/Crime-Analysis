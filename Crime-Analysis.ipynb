{
 "cells": [
  {
   "attachments": {},
   "cell_type": "markdown",
   "metadata": {},
   "source": [
    "# Crime Analysis\n",
    "\n",
    "In this notebook we first preprocess the dataset of crimes. <br/>\n"
   ]
  },
  {
   "attachments": {},
   "cell_type": "markdown",
   "metadata": {},
   "source": [
    "First we import libraries needed."
   ]
  },
  {
   "cell_type": "code",
   "execution_count": null,
   "metadata": {},
   "outputs": [],
   "source": [
    "import pandas as pd\n",
    "from sklearn.impute import SimpleImputer\n",
    "from sklearn.preprocessing import StandardScaler\n",
    "from nltk.stem import PorterStemmer, WordNetLemmatizer\n",
    "from nltk.corpus import stopwords\n",
    "import numpy as np\n",
    "import nltk"
   ]
  },
  {
   "attachments": {},
   "cell_type": "markdown",
   "metadata": {},
   "source": [
    "After importing needed libraries, we load the data."
   ]
  },
  {
   "cell_type": "code",
   "execution_count": null,
   "metadata": {},
   "outputs": [],
   "source": [
    "# Load the dataset\n",
    "data = pd.read_csv('crime.csv', encoding='iso-8859-1')"
   ]
  },
  {
   "attachments": {},
   "cell_type": "markdown",
   "metadata": {},
   "source": [
    "After that it's time for data reduction for `OFFENSE_CODE` and `OFFENSE_DESCRIPTION`. <br/>\n",
    "because these two columns are so important, if in any row we have lost data of them, it's better to remove the whole column."
   ]
  },
  {
   "cell_type": "code",
   "execution_count": null,
   "metadata": {},
   "outputs": [],
   "source": [
    "# Data reduction\n",
    "imputer_c = SimpleImputer(strategy='constant')\n",
    "data.drop(index=data['OFFENSE_CODE'].isnull().index, axis=1)\n",
    "data.drop(index=(data['OFFENSE_DESCRIPTION'] == '').index, axis=1)"
   ]
  },
  {
   "attachments": {},
   "cell_type": "markdown",
   "metadata": {},
   "source": [
    "After that we handle the missing values."
   ]
  },
  {
   "cell_type": "code",
   "execution_count": null,
   "metadata": {},
   "outputs": [
    {
     "ename": "",
     "evalue": "",
     "output_type": "error",
     "traceback": [
      "\u001b[1;31mRunning cells with '/bin/python3' requires the ipykernel package.\n",
      "\u001b[1;31mRun the following command to install 'ipykernel' into the Python environment. \n",
      "\u001b[1;31mCommand: '/bin/python3 -m pip install ipykernel -U --user --force-reinstall'"
     ]
    }
   ],
   "source": [
    "# Handle missing values\n",
    "imputer = SimpleImputer(strategy='mean')\n",
    "data['Lat'] = imputer.fit_transform(data[['Lat']])\n",
    "data['Long'] = imputer.fit_transform(data[['Long']])\n",
    "\n",
    "data['REPORTING_AREA'].fillna(data['REPORTING_AREA'].mode().iloc[0])\n",
    "data['SHOOTING'].fillna('N', inplace=True)\n",
    "data['OCCURRED_ON_DATE'].fillna(data['OCCURRED_ON_DATE'].mode().iloc[0])\n",
    "data['YEAR'].fillna(data['YEAR'].mode().iloc[0])\n",
    "data['MONTH'].fillna(data['MONTH'].mode().iloc[0])\n",
    "data['DAY_OF_WEEK'].fillna(data['DAY_OF_WEEK'].mode().iloc[0])\n",
    "data['HOUR'].fillna(data['HOUR'].mode().iloc[0])\n",
    "data['UCR_PART'].fillna(data['UCR_PART'].mode().iloc[0])\n",
    "data['STREET'].fillna(data['STREET'].mode().iloc[0])"
   ]
  },
  {
   "attachments": {},
   "cell_type": "markdown",
   "metadata": {},
   "source": []
  }
 ],
 "metadata": {
  "kernelspec": {
   "display_name": "Python 3",
   "language": "python",
   "name": "python3"
  },
  "language_info": {
   "name": "python",
   "version": "3.10.6"
  },
  "orig_nbformat": 4
 },
 "nbformat": 4,
 "nbformat_minor": 2
}
